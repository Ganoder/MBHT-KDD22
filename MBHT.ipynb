{
  "nbformat": 4,
  "nbformat_minor": 0,
  "metadata": {
    "colab": {
      "provenance": [],
      "authorship_tag": "ABX9TyPpxmGTfwurE2/tQrQgwziW",
      "include_colab_link": true
    },
    "kernelspec": {
      "name": "python3",
      "display_name": "Python 3"
    },
    "language_info": {
      "name": "python"
    },
    "gpuClass": "standard"
  },
  "cells": [
    {
      "cell_type": "markdown",
      "metadata": {
        "id": "view-in-github",
        "colab_type": "text"
      },
      "source": [
        "<a href=\"https://colab.research.google.com/github/tmukande-debug/MBHT-KDD22/blob/main/MBHT.ipynb\" target=\"_parent\"><img src=\"https://colab.research.google.com/assets/colab-badge.svg\" alt=\"Open In Colab\"/></a>"
      ]
    },
    {
      "cell_type": "code",
      "execution_count": 2,
      "metadata": {
        "colab": {
          "base_uri": "https://localhost:8080/"
        },
        "id": "-ElLlO3unYYg",
        "outputId": "cb5cc5ed-70c0-4837-b093-c240c1a1bb5e"
      },
      "outputs": [
        {
          "output_type": "stream",
          "name": "stdout",
          "text": [
            "Cloning into 'MBHT-KDD22'...\n",
            "remote: Enumerating objects: 519, done.\u001b[K\n",
            "remote: Counting objects: 100% (519/519), done.\u001b[K\n",
            "remote: Compressing objects: 100% (441/441), done.\u001b[K\n",
            "remote: Total 519 (delta 158), reused 356 (delta 44), pack-reused 0\u001b[K\n",
            "Receiving objects: 100% (519/519), 3.00 MiB | 6.70 MiB/s, done.\n",
            "Resolving deltas: 100% (158/158), done.\n"
          ]
        }
      ],
      "source": [
        "!git clone https://github.com/tmukande-debug/MBHT-KDD22"
      ]
    },
    {
      "cell_type": "code",
      "source": [
        "%cd MBHT-KDD22"
      ],
      "metadata": {
        "colab": {
          "base_uri": "https://localhost:8080/"
        },
        "id": "PvS4qS5bnwy5",
        "outputId": "5e617248-82e4-4c8c-aab3-37e0dbc50d00"
      },
      "execution_count": 3,
      "outputs": [
        {
          "output_type": "stream",
          "name": "stdout",
          "text": [
            "/content/MBHT-KDD22\n"
          ]
        }
      ]
    },
    {
      "cell_type": "code",
      "source": [
        "!pip install -r requirements.txt"
      ],
      "metadata": {
        "colab": {
          "base_uri": "https://localhost:8080/"
        },
        "id": "CgzZDNC_oP-G",
        "outputId": "db9c50b2-281c-4473-879d-b94991f65ac2"
      },
      "execution_count": 4,
      "outputs": [
        {
          "output_type": "stream",
          "name": "stdout",
          "text": [
            "Looking in indexes: https://pypi.org/simple, https://us-python.pkg.dev/colab-wheels/public/simple/\n",
            "Requirement already satisfied: torch>=1.7.0 in /usr/local/lib/python3.8/dist-packages (from -r requirements.txt (line 1)) (1.13.0+cu116)\n",
            "Requirement already satisfied: numpy>=1.17.2 in /usr/local/lib/python3.8/dist-packages (from -r requirements.txt (line 2)) (1.21.6)\n",
            "Collecting scipy==1.6.0\n",
            "  Downloading scipy-1.6.0-cp38-cp38-manylinux1_x86_64.whl (27.2 MB)\n",
            "\u001b[K     |████████████████████████████████| 27.2 MB 1.2 MB/s \n",
            "\u001b[?25hCollecting hyperopt>=0.2.4\n",
            "  Downloading hyperopt-0.2.7-py2.py3-none-any.whl (1.6 MB)\n",
            "\u001b[K     |████████████████████████████████| 1.6 MB 56.0 MB/s \n",
            "\u001b[?25hRequirement already satisfied: pandas>=1.0.5 in /usr/local/lib/python3.8/dist-packages (from -r requirements.txt (line 5)) (1.3.5)\n",
            "Requirement already satisfied: tqdm>=4.48.2 in /usr/local/lib/python3.8/dist-packages (from -r requirements.txt (line 6)) (4.64.1)\n",
            "Requirement already satisfied: scikit_learn>=0.23.2 in /usr/local/lib/python3.8/dist-packages (from -r requirements.txt (line 7)) (1.0.2)\n",
            "Requirement already satisfied: pyyaml>=5.1.0 in /usr/local/lib/python3.8/dist-packages (from -r requirements.txt (line 8)) (6.0)\n",
            "Collecting colorlog==4.7.2\n",
            "  Downloading colorlog-4.7.2-py2.py3-none-any.whl (10 kB)\n",
            "Collecting colorama==0.4.4\n",
            "  Downloading colorama-0.4.4-py2.py3-none-any.whl (16 kB)\n",
            "Requirement already satisfied: tensorboard>=2.5.0 in /usr/local/lib/python3.8/dist-packages (from -r requirements.txt (line 11)) (2.9.1)\n",
            "Requirement already satisfied: typing-extensions in /usr/local/lib/python3.8/dist-packages (from torch>=1.7.0->-r requirements.txt (line 1)) (4.4.0)\n",
            "Requirement already satisfied: future in /usr/local/lib/python3.8/dist-packages (from hyperopt>=0.2.4->-r requirements.txt (line 4)) (0.16.0)\n",
            "Requirement already satisfied: networkx>=2.2 in /usr/local/lib/python3.8/dist-packages (from hyperopt>=0.2.4->-r requirements.txt (line 4)) (2.8.8)\n",
            "Requirement already satisfied: six in /usr/local/lib/python3.8/dist-packages (from hyperopt>=0.2.4->-r requirements.txt (line 4)) (1.15.0)\n",
            "Collecting py4j\n",
            "  Downloading py4j-0.10.9.7-py2.py3-none-any.whl (200 kB)\n",
            "\u001b[K     |████████████████████████████████| 200 kB 60.3 MB/s \n",
            "\u001b[?25hRequirement already satisfied: cloudpickle in /usr/local/lib/python3.8/dist-packages (from hyperopt>=0.2.4->-r requirements.txt (line 4)) (1.5.0)\n",
            "Requirement already satisfied: pytz>=2017.3 in /usr/local/lib/python3.8/dist-packages (from pandas>=1.0.5->-r requirements.txt (line 5)) (2022.6)\n",
            "Requirement already satisfied: python-dateutil>=2.7.3 in /usr/local/lib/python3.8/dist-packages (from pandas>=1.0.5->-r requirements.txt (line 5)) (2.8.2)\n",
            "Requirement already satisfied: threadpoolctl>=2.0.0 in /usr/local/lib/python3.8/dist-packages (from scikit_learn>=0.23.2->-r requirements.txt (line 7)) (3.1.0)\n",
            "Requirement already satisfied: joblib>=0.11 in /usr/local/lib/python3.8/dist-packages (from scikit_learn>=0.23.2->-r requirements.txt (line 7)) (1.2.0)\n",
            "Requirement already satisfied: protobuf<3.20,>=3.9.2 in /usr/local/lib/python3.8/dist-packages (from tensorboard>=2.5.0->-r requirements.txt (line 11)) (3.19.6)\n",
            "Requirement already satisfied: tensorboard-data-server<0.7.0,>=0.6.0 in /usr/local/lib/python3.8/dist-packages (from tensorboard>=2.5.0->-r requirements.txt (line 11)) (0.6.1)\n",
            "Requirement already satisfied: requests<3,>=2.21.0 in /usr/local/lib/python3.8/dist-packages (from tensorboard>=2.5.0->-r requirements.txt (line 11)) (2.23.0)\n",
            "Requirement already satisfied: google-auth-oauthlib<0.5,>=0.4.1 in /usr/local/lib/python3.8/dist-packages (from tensorboard>=2.5.0->-r requirements.txt (line 11)) (0.4.6)\n",
            "Requirement already satisfied: setuptools>=41.0.0 in /usr/local/lib/python3.8/dist-packages (from tensorboard>=2.5.0->-r requirements.txt (line 11)) (57.4.0)\n",
            "Requirement already satisfied: grpcio>=1.24.3 in /usr/local/lib/python3.8/dist-packages (from tensorboard>=2.5.0->-r requirements.txt (line 11)) (1.51.1)\n",
            "Requirement already satisfied: wheel>=0.26 in /usr/local/lib/python3.8/dist-packages (from tensorboard>=2.5.0->-r requirements.txt (line 11)) (0.38.4)\n",
            "Requirement already satisfied: google-auth<3,>=1.6.3 in /usr/local/lib/python3.8/dist-packages (from tensorboard>=2.5.0->-r requirements.txt (line 11)) (2.15.0)\n",
            "Requirement already satisfied: absl-py>=0.4 in /usr/local/lib/python3.8/dist-packages (from tensorboard>=2.5.0->-r requirements.txt (line 11)) (1.3.0)\n",
            "Requirement already satisfied: werkzeug>=1.0.1 in /usr/local/lib/python3.8/dist-packages (from tensorboard>=2.5.0->-r requirements.txt (line 11)) (1.0.1)\n",
            "Requirement already satisfied: tensorboard-plugin-wit>=1.6.0 in /usr/local/lib/python3.8/dist-packages (from tensorboard>=2.5.0->-r requirements.txt (line 11)) (1.8.1)\n",
            "Requirement already satisfied: markdown>=2.6.8 in /usr/local/lib/python3.8/dist-packages (from tensorboard>=2.5.0->-r requirements.txt (line 11)) (3.4.1)\n",
            "Requirement already satisfied: pyasn1-modules>=0.2.1 in /usr/local/lib/python3.8/dist-packages (from google-auth<3,>=1.6.3->tensorboard>=2.5.0->-r requirements.txt (line 11)) (0.2.8)\n",
            "Requirement already satisfied: cachetools<6.0,>=2.0.0 in /usr/local/lib/python3.8/dist-packages (from google-auth<3,>=1.6.3->tensorboard>=2.5.0->-r requirements.txt (line 11)) (5.2.0)\n",
            "Requirement already satisfied: rsa<5,>=3.1.4 in /usr/local/lib/python3.8/dist-packages (from google-auth<3,>=1.6.3->tensorboard>=2.5.0->-r requirements.txt (line 11)) (4.9)\n",
            "Requirement already satisfied: requests-oauthlib>=0.7.0 in /usr/local/lib/python3.8/dist-packages (from google-auth-oauthlib<0.5,>=0.4.1->tensorboard>=2.5.0->-r requirements.txt (line 11)) (1.3.1)\n",
            "Requirement already satisfied: importlib-metadata>=4.4 in /usr/local/lib/python3.8/dist-packages (from markdown>=2.6.8->tensorboard>=2.5.0->-r requirements.txt (line 11)) (5.1.0)\n",
            "Requirement already satisfied: zipp>=0.5 in /usr/local/lib/python3.8/dist-packages (from importlib-metadata>=4.4->markdown>=2.6.8->tensorboard>=2.5.0->-r requirements.txt (line 11)) (3.11.0)\n",
            "Requirement already satisfied: pyasn1<0.5.0,>=0.4.6 in /usr/local/lib/python3.8/dist-packages (from pyasn1-modules>=0.2.1->google-auth<3,>=1.6.3->tensorboard>=2.5.0->-r requirements.txt (line 11)) (0.4.8)\n",
            "Requirement already satisfied: certifi>=2017.4.17 in /usr/local/lib/python3.8/dist-packages (from requests<3,>=2.21.0->tensorboard>=2.5.0->-r requirements.txt (line 11)) (2022.12.7)\n",
            "Requirement already satisfied: urllib3!=1.25.0,!=1.25.1,<1.26,>=1.21.1 in /usr/local/lib/python3.8/dist-packages (from requests<3,>=2.21.0->tensorboard>=2.5.0->-r requirements.txt (line 11)) (1.24.3)\n",
            "Requirement already satisfied: idna<3,>=2.5 in /usr/local/lib/python3.8/dist-packages (from requests<3,>=2.21.0->tensorboard>=2.5.0->-r requirements.txt (line 11)) (2.10)\n",
            "Requirement already satisfied: chardet<4,>=3.0.2 in /usr/local/lib/python3.8/dist-packages (from requests<3,>=2.21.0->tensorboard>=2.5.0->-r requirements.txt (line 11)) (3.0.4)\n",
            "Requirement already satisfied: oauthlib>=3.0.0 in /usr/local/lib/python3.8/dist-packages (from requests-oauthlib>=0.7.0->google-auth-oauthlib<0.5,>=0.4.1->tensorboard>=2.5.0->-r requirements.txt (line 11)) (3.2.2)\n",
            "Installing collected packages: scipy, py4j, hyperopt, colorlog, colorama\n",
            "  Attempting uninstall: scipy\n",
            "    Found existing installation: scipy 1.7.3\n",
            "    Uninstalling scipy-1.7.3:\n",
            "      Successfully uninstalled scipy-1.7.3\n",
            "  Attempting uninstall: hyperopt\n",
            "    Found existing installation: hyperopt 0.1.2\n",
            "    Uninstalling hyperopt-0.1.2:\n",
            "      Successfully uninstalled hyperopt-0.1.2\n",
            "Successfully installed colorama-0.4.4 colorlog-4.7.2 hyperopt-0.2.7 py4j-0.10.9.7 scipy-1.6.0\n"
          ]
        }
      ]
    },
    {
      "cell_type": "code",
      "source": [
        "from google.colab import drive\n",
        "drive.mount('/content/drive')"
      ],
      "metadata": {
        "colab": {
          "base_uri": "https://localhost:8080/"
        },
        "id": "QCObbjX31XZ7",
        "outputId": "9d092748-3246-4422-8b40-112db3fae026"
      },
      "execution_count": 5,
      "outputs": [
        {
          "output_type": "stream",
          "name": "stdout",
          "text": [
            "Mounted at /content/drive\n"
          ]
        }
      ]
    },
    {
      "cell_type": "code",
      "source": [
        "!python run_MBHT.py --model=[MBHT] --dataset=retail_beh"
      ],
      "metadata": {
        "colab": {
          "base_uri": "https://localhost:8080/"
        },
        "id": "zrSKvTf0pAm4",
        "outputId": "182d98ef-a361-4f88-a78d-f34e02ec2e32"
      },
      "execution_count": null,
      "outputs": [
        {
          "output_type": "stream",
          "name": "stdout",
          "text": [
            "19 Dec 22:09    INFO  PID: 649\u001b[0m\n",
            "\u001b[0m19 Dec 22:09    INFO  Namespace(batch_size=2048, dataset='retail_beh', gpu_id=0, model='[MBHT]', valid_portion=0.1, validation=False)\u001b[0m\n",
            "\u001b[0m19 Dec 22:09    INFO  \n",
            "\u001b[1;35mGeneral Hyper Parameters:\n",
            "\u001b[0m\u001b[1;36mgpu_id\u001b[0m =\u001b[1;33m 0\u001b[0m\n",
            "\u001b[1;36muse_gpu\u001b[0m =\u001b[1;33m True\u001b[0m\n",
            "\u001b[1;36mseed\u001b[0m =\u001b[1;33m 2020\u001b[0m\n",
            "\u001b[1;36mstate\u001b[0m =\u001b[1;33m INFO\u001b[0m\n",
            "\u001b[1;36mreproducibility\u001b[0m =\u001b[1;33m True\u001b[0m\n",
            "\u001b[1;36mdata_path\u001b[0m =\u001b[1;33m /content/drive/MyDrive/RESEARCH_PROJECT/datasets/MBHT_dataset/retail_beh/\u001b[0m\n",
            "\u001b[1;36mshow_progress\u001b[0m =\u001b[1;33m True\u001b[0m\n",
            "\u001b[1;36msave_dataset\u001b[0m =\u001b[1;33m False\u001b[0m\n",
            "\u001b[1;36msave_dataloaders\u001b[0m =\u001b[1;33m False\u001b[0m\n",
            "\u001b[1;36mbenchmark_filename\u001b[0m =\u001b[1;33m ['train', 'test']\u001b[0m\n",
            "\n",
            "\u001b[1;35mTraining Hyper Parameters:\n",
            "\u001b[0m\u001b[1;36mcheckpoint_dir\u001b[0m =\u001b[1;33m saved\u001b[0m\n",
            "\u001b[1;36mepochs\u001b[0m =\u001b[1;33m 300\u001b[0m\n",
            "\u001b[1;36mtrain_batch_size\u001b[0m =\u001b[1;33m 64\u001b[0m\n",
            "\u001b[1;36mlearner\u001b[0m =\u001b[1;33m adam\u001b[0m\n",
            "\u001b[1;36mlearning_rate\u001b[0m =\u001b[1;33m 0.001\u001b[0m\n",
            "\u001b[1;36meval_step\u001b[0m =\u001b[1;33m 1\u001b[0m\n",
            "\u001b[1;36mstopping_step\u001b[0m =\u001b[1;33m 10\u001b[0m\n",
            "\u001b[1;36mclip_grad_norm\u001b[0m =\u001b[1;33m None\u001b[0m\n",
            "\u001b[1;36mweight_decay\u001b[0m =\u001b[1;33m 0.0\u001b[0m\n",
            "\u001b[1;36mloss_decimal_place\u001b[0m =\u001b[1;33m 4\u001b[0m\n",
            "\n",
            "\u001b[1;35mEvaluation Hyper Parameters:\n",
            "\u001b[0m\u001b[1;36meval_args\u001b[0m =\u001b[1;33m {'mode': 'full', 'order': 'TO', 'split': {'RS': [0.8, 0.1, 0.1]}, 'group_by': 'user'}\u001b[0m\n",
            "\u001b[1;36mmetrics\u001b[0m =\u001b[1;33m ['Recall', 'NDCG', 'MRR']\u001b[0m\n",
            "\u001b[1;36mtopk\u001b[0m =\u001b[1;33m [5, 10, 101]\u001b[0m\n",
            "\u001b[1;36mvalid_metric\u001b[0m =\u001b[1;33m NDCG@10\u001b[0m\n",
            "\u001b[1;36mvalid_metric_bigger\u001b[0m =\u001b[1;33m True\u001b[0m\n",
            "\u001b[1;36meval_batch_size\u001b[0m =\u001b[1;33m 128\u001b[0m\n",
            "\u001b[1;36mmetric_decimal_place\u001b[0m =\u001b[1;33m 4\u001b[0m\n",
            "\n",
            "\u001b[1;35mDataset Hyper Parameters:\n",
            "\u001b[0m\u001b[1;36mfield_separator\u001b[0m =\u001b[1;33m \t\u001b[0m\n",
            "\u001b[1;36mseq_separator\u001b[0m =\u001b[1;33m  \u001b[0m\n",
            "\u001b[1;36mUSER_ID_FIELD\u001b[0m =\u001b[1;33m session_id\u001b[0m\n",
            "\u001b[1;36mITEM_ID_FIELD\u001b[0m =\u001b[1;33m item_id\u001b[0m\n",
            "\u001b[1;36mRATING_FIELD\u001b[0m =\u001b[1;33m rating\u001b[0m\n",
            "\u001b[1;36mTIME_FIELD\u001b[0m =\u001b[1;33m timestamp\u001b[0m\n",
            "\u001b[1;36mseq_len\u001b[0m =\u001b[1;33m None\u001b[0m\n",
            "\u001b[1;36mLABEL_FIELD\u001b[0m =\u001b[1;33m label\u001b[0m\n",
            "\u001b[1;36mthreshold\u001b[0m =\u001b[1;33m None\u001b[0m\n",
            "\u001b[1;36mNEG_PREFIX\u001b[0m =\u001b[1;33m neg_\u001b[0m\n",
            "\u001b[1;36mload_col\u001b[0m =\u001b[1;33m None\u001b[0m\n",
            "\u001b[1;36munload_col\u001b[0m =\u001b[1;33m None\u001b[0m\n",
            "\u001b[1;36munused_col\u001b[0m =\u001b[1;33m None\u001b[0m\n",
            "\u001b[1;36madditional_feat_suffix\u001b[0m =\u001b[1;33m None\u001b[0m\n",
            "\u001b[1;36mrm_dup_inter\u001b[0m =\u001b[1;33m None\u001b[0m\n",
            "\u001b[1;36mval_interval\u001b[0m =\u001b[1;33m None\u001b[0m\n",
            "\u001b[1;36mfilter_inter_by_user_or_item\u001b[0m =\u001b[1;33m True\u001b[0m\n",
            "\u001b[1;36muser_inter_num_interval\u001b[0m =\u001b[1;33m [0,inf)\u001b[0m\n",
            "\u001b[1;36mitem_inter_num_interval\u001b[0m =\u001b[1;33m [0,inf)\u001b[0m\n",
            "\u001b[1;36malias_of_user_id\u001b[0m =\u001b[1;33m None\u001b[0m\n",
            "\u001b[1;36malias_of_item_id\u001b[0m =\u001b[1;33m ['item_id_list']\u001b[0m\n",
            "\u001b[1;36malias_of_entity_id\u001b[0m =\u001b[1;33m None\u001b[0m\n",
            "\u001b[1;36malias_of_relation_id\u001b[0m =\u001b[1;33m None\u001b[0m\n",
            "\u001b[1;36mpreload_weight\u001b[0m =\u001b[1;33m None\u001b[0m\n",
            "\u001b[1;36mnormalize_field\u001b[0m =\u001b[1;33m None\u001b[0m\n",
            "\u001b[1;36mnormalize_all\u001b[0m =\u001b[1;33m None\u001b[0m\n",
            "\u001b[1;36mITEM_LIST_LENGTH_FIELD\u001b[0m =\u001b[1;33m item_length\u001b[0m\n",
            "\u001b[1;36mLIST_SUFFIX\u001b[0m =\u001b[1;33m _list\u001b[0m\n",
            "\u001b[1;36mMAX_ITEM_LIST_LENGTH\u001b[0m =\u001b[1;33m 200\u001b[0m\n",
            "\u001b[1;36mPOSITION_FIELD\u001b[0m =\u001b[1;33m position_id\u001b[0m\n",
            "\u001b[1;36mHEAD_ENTITY_ID_FIELD\u001b[0m =\u001b[1;33m head_id\u001b[0m\n",
            "\u001b[1;36mTAIL_ENTITY_ID_FIELD\u001b[0m =\u001b[1;33m tail_id\u001b[0m\n",
            "\u001b[1;36mRELATION_ID_FIELD\u001b[0m =\u001b[1;33m relation_id\u001b[0m\n",
            "\u001b[1;36mENTITY_ID_FIELD\u001b[0m =\u001b[1;33m entity_id\u001b[0m\n",
            "\n",
            "\u001b[1;35mOther Hyper Parameters: \n",
            "\u001b[0m\u001b[1;36mneg_sampling\u001b[0m = \u001b[1;33mNone\u001b[0m\n",
            "\u001b[1;36mrepeatable\u001b[0m = \u001b[1;33mTrue\u001b[0m\n",
            "\u001b[1;36mn_layers\u001b[0m = \u001b[1;33m2\u001b[0m\n",
            "\u001b[1;36mn_heads\u001b[0m = \u001b[1;33m2\u001b[0m\n",
            "\u001b[1;36mhidden_size\u001b[0m = \u001b[1;33m64\u001b[0m\n",
            "\u001b[1;36minner_size\u001b[0m = \u001b[1;33m256\u001b[0m\n",
            "\u001b[1;36mhidden_dropout_prob\u001b[0m = \u001b[1;33m0.5\u001b[0m\n",
            "\u001b[1;36mattn_dropout_prob\u001b[0m = \u001b[1;33m0.5\u001b[0m\n",
            "\u001b[1;36mhidden_act\u001b[0m = \u001b[1;33mgelu\u001b[0m\n",
            "\u001b[1;36mlayer_norm_eps\u001b[0m = \u001b[1;33m1e-12\u001b[0m\n",
            "\u001b[1;36minitializer_range\u001b[0m = \u001b[1;33m0.02\u001b[0m\n",
            "\u001b[1;36mmask_ratio\u001b[0m = \u001b[1;33m0.2\u001b[0m\n",
            "\u001b[1;36mloss_type\u001b[0m = \u001b[1;33mCE\u001b[0m\n",
            "\u001b[1;36mcustomized_eval\u001b[0m = \u001b[1;33m1\u001b[0m\n",
            "\u001b[1;36mMODEL_TYPE\u001b[0m = \u001b[1;33mModelType.SEQUENTIAL\u001b[0m\n",
            "\u001b[1;36mhyper_len\u001b[0m = \u001b[1;33m6\u001b[0m\n",
            "\u001b[1;36mscales\u001b[0m = \u001b[1;33m[5, 4, 20]\u001b[0m\n",
            "\u001b[1;36menable_hg\u001b[0m = \u001b[1;33m1\u001b[0m\n",
            "\u001b[1;36menable_ms\u001b[0m = \u001b[1;33m1\u001b[0m\n",
            "\u001b[1;36mabaltion\u001b[0m = \u001b[1;33m\u001b[0m\n",
            "\u001b[1;36mMODEL_INPUT_TYPE\u001b[0m = \u001b[1;33mInputType.POINTWISE\u001b[0m\n",
            "\u001b[1;36meval_type\u001b[0m = \u001b[1;33mEvaluatorType.RANKING\u001b[0m\n",
            "\u001b[1;36mdevice\u001b[0m = \u001b[1;33mcpu\u001b[0m\n",
            "\u001b[1;36mtrain_neg_sample_args\u001b[0m = \u001b[1;33m{'strategy': 'none'}\u001b[0m\n",
            "\u001b[1;36meval_neg_sample_args\u001b[0m = \u001b[1;33m{'strategy': 'full', 'distribution': 'uniform'}\u001b[0m\n",
            "\n",
            "\u001b[0m\n",
            "\u001b[0m19 Dec 22:09    INFO  \u001b[1;35mretail_beh\u001b[0m\n",
            "\u001b[1;34mThe number of users\u001b[0m: 30691\n",
            "\u001b[1;34mAverage actions of users\u001b[0m: 1.065167807103291\n",
            "\u001b[1;34mThe number of items\u001b[0m: 31240\n",
            "\u001b[1;34mAverage actions of items\u001b[0m: 3.388618223281849\n",
            "\u001b[1;34mThe number of inters\u001b[0m: 32690\n",
            "\u001b[1;34mThe sparsity of the dataset\u001b[0m: 99.99659048303167%\n",
            "\u001b[1;34mRemain Fields\u001b[0m: ['session_id', 'item_id_list', 'item_type_list', 'item_id', 'item_length']\u001b[0m\n",
            "\u001b[0m19 Dec 22:09    INFO  MBHT(\n",
            "  (type_embedding): Embedding(6, 64, padding_idx=0)\n",
            "  (item_embedding): Embedding(31241, 64, padding_idx=0)\n",
            "  (position_embedding): Embedding(201, 64)\n",
            "  (trm_encoder): TransformerEncoder(\n",
            "    (layer): ModuleList(\n",
            "      (0): TransformerLayer(\n",
            "        (multi_head_attention): MultiScaleAttention(\n",
            "          (out_fc): Linear(in_features=260, out_features=200, bias=True)\n",
            "          (attention1): LinearAttention(\n",
            "            (E): Linear(in_features=200, out_features=5, bias=True)\n",
            "            (F): Linear(in_features=200, out_features=5, bias=True)\n",
            "            (W_V): Linear(in_features=64, out_features=64, bias=True)\n",
            "            (W_K): Linear(in_features=64, out_features=64, bias=True)\n",
            "            (W_Q): Linear(in_features=64, out_features=64, bias=True)\n",
            "            (dense): Linear(in_features=64, out_features=64, bias=True)\n",
            "            (attn_dropout): Dropout(p=0.5, inplace=False)\n",
            "            (out_dropout): Dropout(p=0.5, inplace=False)\n",
            "            (LayerNorm): LayerNorm((64,), eps=1e-12, elementwise_affine=True)\n",
            "          )\n",
            "          (attention2): MultiHeadAttention(\n",
            "            (query): Linear(in_features=64, out_features=64, bias=True)\n",
            "            (key): Linear(in_features=64, out_features=64, bias=True)\n",
            "            (value): Linear(in_features=64, out_features=64, bias=True)\n",
            "            (attn_dropout): Dropout(p=0.5, inplace=False)\n",
            "            (dense): Linear(in_features=64, out_features=64, bias=True)\n",
            "            (LayerNorm): LayerNorm((64,), eps=1e-12, elementwise_affine=True)\n",
            "            (out_dropout): Dropout(p=0.5, inplace=False)\n",
            "          )\n",
            "        )\n",
            "        (feed_forward): FeedForward(\n",
            "          (dense_1): Linear(in_features=64, out_features=256, bias=True)\n",
            "          (dense_2): Linear(in_features=256, out_features=64, bias=True)\n",
            "          (LayerNorm): LayerNorm((64,), eps=1e-12, elementwise_affine=True)\n",
            "          (dropout): Dropout(p=0.5, inplace=False)\n",
            "        )\n",
            "      )\n",
            "      (1): TransformerLayer(\n",
            "        (multi_head_attention): MultiScaleAttention(\n",
            "          (out_fc): Linear(in_features=260, out_features=200, bias=True)\n",
            "          (attention1): LinearAttention(\n",
            "            (E): Linear(in_features=200, out_features=5, bias=True)\n",
            "            (F): Linear(in_features=200, out_features=5, bias=True)\n",
            "            (W_V): Linear(in_features=64, out_features=64, bias=True)\n",
            "            (W_K): Linear(in_features=64, out_features=64, bias=True)\n",
            "            (W_Q): Linear(in_features=64, out_features=64, bias=True)\n",
            "            (dense): Linear(in_features=64, out_features=64, bias=True)\n",
            "            (attn_dropout): Dropout(p=0.5, inplace=False)\n",
            "            (out_dropout): Dropout(p=0.5, inplace=False)\n",
            "            (LayerNorm): LayerNorm((64,), eps=1e-12, elementwise_affine=True)\n",
            "          )\n",
            "          (attention2): MultiHeadAttention(\n",
            "            (query): Linear(in_features=64, out_features=64, bias=True)\n",
            "            (key): Linear(in_features=64, out_features=64, bias=True)\n",
            "            (value): Linear(in_features=64, out_features=64, bias=True)\n",
            "            (attn_dropout): Dropout(p=0.5, inplace=False)\n",
            "            (dense): Linear(in_features=64, out_features=64, bias=True)\n",
            "            (LayerNorm): LayerNorm((64,), eps=1e-12, elementwise_affine=True)\n",
            "            (out_dropout): Dropout(p=0.5, inplace=False)\n",
            "          )\n",
            "        )\n",
            "        (feed_forward): FeedForward(\n",
            "          (dense_1): Linear(in_features=64, out_features=256, bias=True)\n",
            "          (dense_2): Linear(in_features=256, out_features=64, bias=True)\n",
            "          (LayerNorm): LayerNorm((64,), eps=1e-12, elementwise_affine=True)\n",
            "          (dropout): Dropout(p=0.5, inplace=False)\n",
            "        )\n",
            "      )\n",
            "    )\n",
            "  )\n",
            "  (hgnn_layer): HGNN(\n",
            "    (hgc1): HGNN_conv()\n",
            "    (hgc2): HGNN_conv()\n",
            "    (out_fc): Linear(in_features=64, out_features=64, bias=True)\n",
            "  )\n",
            "  (LayerNorm): LayerNorm((64,), eps=1e-12, elementwise_affine=True)\n",
            "  (dropout): Dropout(p=0.5, inplace=False)\n",
            "  (hg_type_embedding): Embedding(6, 64, padding_idx=0)\n",
            ")\u001b[1;34m\n",
            "Trainable parameters\u001b[0m: 2276036\u001b[0m\n",
            "\u001b[1;35mEvaluate   \u001b[0m: 100%|██████████████████████████████████████████████████| 16/16 [00:11<00:00,  1.45it/s]\u001b[0m\u001b[0m\n",
            "\u001b[0m19 Dec 22:10    INFO  \u001b[1;32mepoch -1 evaluating\u001b[0m [\u001b[1;34mtime\u001b[0m: 11.08s, \u001b[1;34mvalid_score\u001b[0m: 0.054900]\u001b[0m\n",
            "\u001b[0m19 Dec 22:10    INFO  \u001b[1;34mvalid result\u001b[0m: \n",
            "recall@5 : 0.0625    recall@10 : 0.1245    recall@101 : 1.0    ndcg@5 : 0.0356    ndcg@10 : 0.0549    ndcg@101 : 0.2208    mrr@5 : 0.0271    mrr@10 : 0.0346    mrr@101 : 0.0609    \u001b[0m\n",
            "\u001b[1;35mTrain     0\u001b[0m: 100%|████████████████████████████████████████████████| 480/480 [25:58<00:00,  3.25s/it]\u001b[0m\u001b[0m\n",
            "\u001b[0m19 Dec 22:36    INFO  \u001b[1;32mepoch 0 training\u001b[0m [\u001b[1;34mtime\u001b[0m: 1558.17s, \u001b[1;34mtrain loss\u001b[0m: 4546.8375]\u001b[0m\n",
            "\u001b[1;35mEvaluate   \u001b[0m: 100%|██████████████████████████████████████████████████| 16/16 [00:10<00:00,  1.45it/s]\u001b[0m\u001b[0m\n",
            "\u001b[0m19 Dec 22:36    INFO  \u001b[1;32mepoch 0 evaluating\u001b[0m [\u001b[1;34mtime\u001b[0m: 11.03s, \u001b[1;34mvalid_score\u001b[0m: 0.672900]\u001b[0m\n",
            "\u001b[0m19 Dec 22:36    INFO  \u001b[1;34mvalid result\u001b[0m: \n",
            "recall@5 : 0.747    recall@10 : 0.823    recall@101 : 1.0    ndcg@5 : 0.6479    ndcg@10 : 0.6729    ndcg@101 : 0.7089    mrr@5 : 0.6148    mrr@10 : 0.6254    mrr@101 : 0.6322    \u001b[0m\n",
            "\u001b[0m19 Dec 22:36    INFO  \u001b[1;34mSaving current best\u001b[0m: saved/MBHT-retail_beh-Dec-19-2022_22-09-54.pth\u001b[0m\n",
            "\u001b[1;35mTrain     1\u001b[0m: 100%|████████████████████████████████████████████████| 480/480 [28:28<00:00,  3.56s/it]\u001b[0m\u001b[0m\n",
            "\u001b[0m19 Dec 23:04    INFO  \u001b[1;32mepoch 1 training\u001b[0m [\u001b[1;34mtime\u001b[0m: 1708.62s, \u001b[1;34mtrain loss\u001b[0m: 3702.1454]\u001b[0m\n",
            "\u001b[1;35mEvaluate   \u001b[0m: 100%|██████████████████████████████████████████████████| 16/16 [00:11<00:00,  1.34it/s]\u001b[0m\u001b[0m\n",
            "\u001b[0m19 Dec 23:04    INFO  \u001b[1;32mepoch 1 evaluating\u001b[0m [\u001b[1;34mtime\u001b[0m: 11.96s, \u001b[1;34mvalid_score\u001b[0m: 0.762300]\u001b[0m\n",
            "\u001b[0m19 Dec 23:04    INFO  \u001b[1;34mvalid result\u001b[0m: \n",
            "recall@5 : 0.799    recall@10 : 0.8345    recall@101 : 1.0    ndcg@5 : 0.7507    ndcg@10 : 0.7623    ndcg@101 : 0.7913    mrr@5 : 0.7346    mrr@10 : 0.7394    mrr@101 : 0.7432    \u001b[0m\n",
            "\u001b[0m19 Dec 23:04    INFO  \u001b[1;34mSaving current best\u001b[0m: saved/MBHT-retail_beh-Dec-19-2022_22-09-54.pth\u001b[0m\n",
            "\u001b[1;35mTrain     2\u001b[0m: 100%|████████████████████████████████████████████████| 480/480 [29:41<00:00,  3.71s/it]\u001b[0m\u001b[0m\n",
            "\u001b[0m19 Dec 23:34    INFO  \u001b[1;32mepoch 2 training\u001b[0m [\u001b[1;34mtime\u001b[0m: 1781.32s, \u001b[1;34mtrain loss\u001b[0m: 2712.4020]\u001b[0m\n",
            "\u001b[1;35mEvaluate   \u001b[0m: 100%|██████████████████████████████████████████████████| 16/16 [00:11<00:00,  1.34it/s]\u001b[0m\u001b[0m\n",
            "\u001b[0m19 Dec 23:34    INFO  \u001b[1;32mepoch 2 evaluating\u001b[0m [\u001b[1;34mtime\u001b[0m: 11.93s, \u001b[1;34mvalid_score\u001b[0m: 0.861500]\u001b[0m\n",
            "\u001b[0m19 Dec 23:34    INFO  \u001b[1;34mvalid result\u001b[0m: \n",
            "recall@5 : 0.884    recall@10 : 0.8945    recall@101 : 1.0    ndcg@5 : 0.8582    ndcg@10 : 0.8615    ndcg@101 : 0.8792    mrr@5 : 0.8496    mrr@10 : 0.8509    mrr@101 : 0.853    \u001b[0m\n",
            "\u001b[0m19 Dec 23:34    INFO  \u001b[1;34mSaving current best\u001b[0m: saved/MBHT-retail_beh-Dec-19-2022_22-09-54.pth\u001b[0m\n",
            "\u001b[1;35mTrain     3\u001b[0m: 100%|████████████████████████████████████████████████| 480/480 [28:14<00:00,  3.53s/it]\u001b[0m\u001b[0m\n",
            "\u001b[0m20 Dec 00:03    INFO  \u001b[1;32mepoch 3 training\u001b[0m [\u001b[1;34mtime\u001b[0m: 1694.45s, \u001b[1;34mtrain loss\u001b[0m: 2108.6167]\u001b[0m\n",
            "\u001b[1;35mEvaluate   \u001b[0m: 100%|██████████████████████████████████████████████████| 16/16 [00:11<00:00,  1.45it/s]\u001b[0m\u001b[0m\n",
            "\u001b[0m20 Dec 00:03    INFO  \u001b[1;32mepoch 3 evaluating\u001b[0m [\u001b[1;34mtime\u001b[0m: 11.05s, \u001b[1;34mvalid_score\u001b[0m: 0.886300]\u001b[0m\n",
            "\u001b[0m20 Dec 00:03    INFO  \u001b[1;34mvalid result\u001b[0m: \n",
            "recall@5 : 0.899    recall@10 : 0.9065    recall@101 : 1.0    ndcg@5 : 0.8838    ndcg@10 : 0.8863    ndcg@101 : 0.9017    mrr@5 : 0.8787    mrr@10 : 0.8798    mrr@101 : 0.8814    \u001b[0m\n",
            "\u001b[0m20 Dec 00:03    INFO  \u001b[1;34mSaving current best\u001b[0m: saved/MBHT-retail_beh-Dec-19-2022_22-09-54.pth\u001b[0m\n",
            "\u001b[1;35mTrain     4\u001b[0m: 100%|████████████████████████████████████████████████| 480/480 [28:29<00:00,  3.56s/it]\u001b[0m\u001b[0m\n",
            "\u001b[0m20 Dec 00:31    INFO  \u001b[1;32mepoch 4 training\u001b[0m [\u001b[1;34mtime\u001b[0m: 1709.56s, \u001b[1;34mtrain loss\u001b[0m: 1794.8820]\u001b[0m\n",
            "\u001b[1;35mEvaluate   \u001b[0m: 100%|██████████████████████████████████████████████████| 16/16 [00:10<00:00,  1.57it/s]\u001b[0m\u001b[0m\n",
            "\u001b[0m20 Dec 00:31    INFO  \u001b[1;32mepoch 4 evaluating\u001b[0m [\u001b[1;34mtime\u001b[0m: 10.22s, \u001b[1;34mvalid_score\u001b[0m: 0.892300]\u001b[0m\n",
            "\u001b[0m20 Dec 00:31    INFO  \u001b[1;34mvalid result\u001b[0m: \n",
            "recall@5 : 0.902    recall@10 : 0.912    recall@101 : 1.0    ndcg@5 : 0.8891    ndcg@10 : 0.8923    ndcg@101 : 0.9066    mrr@5 : 0.8848    mrr@10 : 0.8861    mrr@101 : 0.8875    \u001b[0m\n",
            "\u001b[0m20 Dec 00:31    INFO  \u001b[1;34mSaving current best\u001b[0m: saved/MBHT-retail_beh-Dec-19-2022_22-09-54.pth\u001b[0m\n",
            "\u001b[1;35mTrain     5\u001b[0m:  13%|██████▏                                          | 61/480 [03:35<23:04,  3.30s/it]\u001b[0m\u001b[0m"
          ]
        }
      ]
    }
  ]
}